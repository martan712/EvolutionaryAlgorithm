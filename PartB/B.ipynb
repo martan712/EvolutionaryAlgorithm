{
 "cells": [
  {
   "cell_type": "markdown",
   "metadata": {},
   "source": [
    "tournament selection with a tunable parameter K,\n",
    "– your own target string of length L of (approximately) 15 characters,\n",
    "– an alphabet Σ containing all 26 lowercase letters and all 26 capital letters,\n",
    "– crossover with probability pc = 1,\n",
    "– a tunable mutation rate μ,\n",
    "– a population size N = 200\n",
    "– a fitness as defined in the lecture\n",
    "– generational replacement with no elitism. Note: since you are doing crossover between two parents, you\n",
    "will now generate two new children at once, so to get a new population of N strings you need to repeat this\n",
    "N/2 times."
   ]
  },
  {
   "cell_type": "code",
   "execution_count": 53,
   "metadata": {},
   "outputs": [],
   "source": [
    "import random\n",
    "import numpy as np\n",
    "import string"
   ]
  },
  {
   "cell_type": "code",
   "execution_count": 54,
   "metadata": {},
   "outputs": [],
   "source": [
    "def generate_target_string(alphabet, L=15):\n",
    "    # Generate a random string of length L using characters from the provided alphabet\n",
    "    target_string = ''.join(random.choice(alphabet) for _ in range(L))\n",
    "    return target_string"
   ]
  },
  {
   "cell_type": "code",
   "execution_count": 55,
   "metadata": {},
   "outputs": [],
   "source": [
    "def fitness(target_string, individual):\n",
    "    return sum(1 for t, i in zip(target_string, individual) if t == i)/len(target_string)"
   ]
  },
  {
   "cell_type": "code",
   "execution_count": 133,
   "metadata": {},
   "outputs": [],
   "source": [
    "def tournament_selection(population, target_string, K):\n",
    "    selected = random.sample(population, min(K, len(population)))\n",
    "    selected = sorted(selected, key=lambda ind: fitness(target_string, ind), reverse=True)\n",
    "    return selected[0]"
   ]
  },
  {
   "cell_type": "code",
   "execution_count": 134,
   "metadata": {},
   "outputs": [],
   "source": [
    "def crossover(parent1, parent2):\n",
    "    crossover_point = random.randint(1, len(parent1) - 1)  # Crossover point between 1 and len-1\n",
    "    child1 = parent1[:crossover_point] + parent2[crossover_point:]\n",
    "    child2 = parent2[:crossover_point] + parent1[crossover_point:]\n",
    "    return child1, child2"
   ]
  },
  {
   "cell_type": "code",
   "execution_count": 135,
   "metadata": {},
   "outputs": [],
   "source": [
    "import numpy as np\n",
    "def mutate(individual, alphabet, mu):\n",
    "    mutated_individual = list(individual)\n",
    "    for i in range(len(mutated_individual)):\n",
    "        if np.random.choice((False, True), p=[1-mu, mu]):\n",
    "            mutated_individual[i] = random.choice(alphabet)  # Randomly mutate character\n",
    "    return ''.join(mutated_individual)"
   ]
  },
  {
   "cell_type": "code",
   "execution_count": 149,
   "metadata": {},
   "outputs": [],
   "source": [
    "def create_new_population(population, target_string, K, N, mu, alphabet):\n",
    "    new_population = []\n",
    "    while len(new_population) < N:\n",
    "        p1 = tournament_selection(population, target_string, K)\n",
    "        p2 = tournament_selection(population, target_string, K)\n",
    "        c1, c2 = crossover(p1,p2)\n",
    "        c1 = mutate(c1,alphabet, mu)\n",
    "        c2 = mutate(c2,alphabet, mu)\n",
    "        new_population.append(c1)\n",
    "        new_population.append(c2)\n",
    "    return new_population"
   ]
  },
  {
   "cell_type": "code",
   "execution_count": 155,
   "metadata": {},
   "outputs": [],
   "source": [
    "def GE(target, alphabet, target_length, crossover_p, mu, N, K, iters = 150):\n",
    "    pop = [generate_target_string(alphabet, target_length) for _ in range(N)]\n",
    "    fitnesses = [fitness(target, c) for c in pop]\n",
    "    best_fitness = max(fitnesses)\n",
    "    generation = 0\n",
    "    while best_fitness != 1:\n",
    "        if generation%10 == 0:\n",
    "           print(generation)\n",
    "           print(best_fitness)\n",
    "        generation+=1\n",
    "        pop = create_new_population(pop, target, K, N, mu, alphabet)\n",
    "        fitnesses = [fitness(target, c) for c in pop]\n",
    "        best_fitness = max(fitnesses)\n",
    "        \n",
    "    print(generation)"
   ]
  },
  {
   "cell_type": "code",
   "execution_count": null,
   "metadata": {},
   "outputs": [
    {
     "name": "stdout",
     "output_type": "stream",
     "text": [
      "0\n",
      "0.2\n",
      "10\n",
      "0.4666666666666667\n",
      "20\n",
      "0.6666666666666666\n",
      "30\n",
      "0.8666666666666667\n",
      "40\n",
      "0.8666666666666667\n",
      "50\n",
      "0.9333333333333333\n",
      "55\n"
     ]
    }
   ],
   "source": [
    "alphabet = string.ascii_letters  # 'abcdefghijklmnopqrstuvwxyzABCDEFGHIJKLMNOPQRSTUVWXYZ'\n",
    "target_length = 15  # Length of the string\n",
    "crossover_p = 1\n",
    "mu = 1/target_length\n",
    "N = 200\n",
    "K = 2\n",
    "target_string = generate_target_string(alphabet, target_length)\n",
    "\n",
    "GE(target_string, alphabet, target_length, crossover_p, mu, N, K, 150)\n",
    "\n"
   ]
  },
  {
   "cell_type": "code",
   "execution_count": null,
   "metadata": {},
   "outputs": [
    {
     "name": "stdout",
     "output_type": "stream",
     "text": [
      "0\n",
      "0.1875\n",
      "10\n",
      "0.75\n",
      "19\n"
     ]
    }
   ],
   "source": [
    "from GeneticAlgorithm import GeneticAlgorithm\n",
    "\n",
    "# Example usage\n",
    "alphabet = \"abcdefghijklmnopqrstuvwxyzABCDEFGHIJKLMNOPQRSTUVWXYZ\"\n",
    "target = \"HelloGeneticAlgo\"  # Target string\n",
    "ga = GeneticAlgorithm(alphabet, target, len(target), mu=0.05)\n",
    "ga.run()"
   ]
  },
  {
   "cell_type": "code",
   "execution_count": null,
   "metadata": {},
   "outputs": [],
   "source": []
  }
 ],
 "metadata": {
  "kernelspec": {
   "display_name": "deeplearning",
   "language": "python",
   "name": "python3"
  },
  "language_info": {
   "codemirror_mode": {
    "name": "ipython",
    "version": 3
   },
   "file_extension": ".py",
   "mimetype": "text/x-python",
   "name": "python",
   "nbconvert_exporter": "python",
   "pygments_lexer": "ipython3",
   "version": "3.12.7"
  }
 },
 "nbformat": 4,
 "nbformat_minor": 2
}
